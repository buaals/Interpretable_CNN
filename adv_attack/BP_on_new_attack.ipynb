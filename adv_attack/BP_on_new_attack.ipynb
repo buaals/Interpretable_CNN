{
 "cells": [
  {
   "cell_type": "code",
   "execution_count": null,
   "metadata": {},
   "outputs": [],
   "source": [
    "from cleverhans.utils_mnist import data_mnist\n",
    "x_train, y_train, x_test, y_test = data_mnist(train_start=0,\n",
    "                                                  train_end=60000,\n",
    "                                                  test_start=0,\n",
    "                                                  test_end=10000)\n",
    "\n",
    "x_train = np.pad(x_train, ((0, 0), (2, 2), (2, 2), (0, 0)), mode='constant')\n",
    "x_test = np.pad(x_test, ((0, 0), (2, 2), (2, 2), (0, 0)), mode='constant')"
   ]
  },
  {
   "cell_type": "code",
   "execution_count": null,
   "metadata": {},
   "outputs": [],
   "source": [
    "print(x_test.shape)"
   ]
  },
  {
   "cell_type": "code",
   "execution_count": null,
   "metadata": {},
   "outputs": [],
   "source": [
    "# test ff_v2 on ff_v1\n",
    "import numpy as np\n",
    "import matplotlib.pyplot as plt\n",
    "import pickle\n",
    "\n",
    "data_dir='mnist_ff_model/'\n",
    "# FGSM data\n",
    "with open(data_dir+'mnist_FGSM_data.pkl','rb') as fr:\n",
    "    fgsm_data=pickle.load(fr)\n",
    "with open(data_dir+'mnist_BIM_data.pkl','rb') as fr:\n",
    "    bim_data=pickle.load(fr)\n",
    "with open(data_dir+'mnist_DeepFool_data.pkl','rb') as fr:\n",
    "    DF_data=pickle.load(fr)"
   ]
  },
  {
   "cell_type": "code",
   "execution_count": null,
   "metadata": {},
   "outputs": [],
   "source": [
    "print(fgsm_data.shape)"
   ]
  },
  {
   "cell_type": "code",
   "execution_count": 9,
   "metadata": {},
   "outputs": [
    {
     "name": "stdout",
     "output_type": "stream",
     "text": [
      "INFO:tensorflow:Restoring parameters from mnist_ff_model_v2/FF_init_model_v2.ckpt\n",
      "acc: 0.0588\n",
      "acc: 0.0225\n",
      "acc: 0.5053\n"
     ]
    }
   ],
   "source": [
    "model_dir='mnist_ff_model'\n",
    "filename='FF_init_model.ckpt'\n",
    "import os\n",
    "\n",
    "import tensorflow as tf\n",
    "config = tf.ConfigProto()\n",
    "config.gpu_options.allow_growth=True\n",
    "\n",
    "import keras\n",
    "from lenet_model import mnist_model\n",
    "from mnist_ff_model import mnist_ff_model\n",
    "from cleverhans.utils_tf import train, model_eval\n",
    "\n",
    "\n",
    "tf.reset_default_graph()\n",
    "x = tf.placeholder(tf.float32, shape=(None, 32, 32,\n",
    "                                          1))\n",
    "y = tf.placeholder(tf.float32, shape=(None, 10))\n",
    "\n",
    "# model = mnist_model(img_rows=32, img_cols=32,\n",
    "#                       channels=1, nb_filters=64,\n",
    "#                       nb_classes=10)\n",
    "model=mnist_ff_model()\n",
    "preds=model(x)\n",
    "\n",
    "sess=tf.Session(config=config)\n",
    "keras.backend.set_session(sess)\n",
    "\n",
    "saver=tf.train.Saver()\n",
    "saver.restore(sess, os.path.join(model_dir, filename))\n",
    "eval_params = {'batch_size': 32}\n",
    "acc = model_eval(sess, x, y, preds, fgsm_data, y_test, args=eval_params)\n",
    "print('acc:', acc)\n",
    "acc = model_eval(sess, x, y, preds, bim_data, y_test, args=eval_params)\n",
    "print('acc:', acc)\n",
    "acc = model_eval(sess, x, y, preds, DF_data, y_test, args=eval_params)\n",
    "print('acc:', acc)"
   ]
  },
  {
   "cell_type": "code",
   "execution_count": 15,
   "metadata": {},
   "outputs": [
    {
     "name": "stdout",
     "output_type": "stream",
     "text": [
      "INFO:tensorflow:Restoring parameters from mnist_BP_model/mnist.ckpt\n",
      "acc: 0.3409\n"
     ]
    }
   ],
   "source": [
    "model_dir='mnist_BP_model'\n",
    "filename='mnist.ckpt'\n",
    "import os\n",
    "\n",
    "import tensorflow as tf\n",
    "\n",
    "import keras\n",
    "from lenet_model import mnist_model\n",
    "from cleverhans.utils_tf import train, model_eval\n",
    "\n",
    "\n",
    "tf.reset_default_graph()\n",
    "x = tf.placeholder(tf.float32, shape=(None, 32, 32,\n",
    "                                          1))\n",
    "y = tf.placeholder(tf.float32, shape=(None, 10))\n",
    "\n",
    "model = mnist_model(img_rows=32, img_cols=32,\n",
    "                      channels=1, nb_filters=64,\n",
    "                      nb_classes=10)\n",
    "preds=model(x)\n",
    "\n",
    "\n",
    "sess=tf.Session()\n",
    "keras.backend.set_session(sess)\n",
    "\n",
    "saver=tf.train.Saver()\n",
    "saver.restore(sess, os.path.join(model_dir, filename))\n",
    "eval_params = {'batch_size': 32}\n",
    "acc = model_eval(sess, x, y, preds, fgsm_data, y_test, args=eval_params)\n",
    "print('acc:', acc)"
   ]
  },
  {
   "cell_type": "code",
   "execution_count": 17,
   "metadata": {},
   "outputs": [
    {
     "name": "stdout",
     "output_type": "stream",
     "text": [
      "acc: 0.9717\n"
     ]
    }
   ],
   "source": [
    "acc = model_eval(sess, x, y, preds, DF_data, y_test, args=eval_params)\n",
    "print('acc:', acc)"
   ]
  },
  {
   "cell_type": "code",
   "execution_count": 18,
   "metadata": {},
   "outputs": [
    {
     "name": "stdout",
     "output_type": "stream",
     "text": [
      "acc: 0.5705\n"
     ]
    }
   ],
   "source": [
    "acc = model_eval(sess, x, y, preds, bim_data, y_test, args=eval_params)\n",
    "print('acc:', acc)"
   ]
  },
  {
   "cell_type": "code",
   "execution_count": 1,
   "metadata": {},
   "outputs": [],
   "source": [
    "import numpy as np\n",
    "import matplotlib.pyplot as plt\n",
    "import pickle\n",
    "data_dir='cifar_ff_model_v2/'\n",
    "# FGSM data\n",
    "with open(data_dir+'cifar_FGSM_data.pkl','rb') as fr:\n",
    "    fgsm_data=pickle.load(fr)\n",
    "with open(data_dir+'cifar_BIM_data.pkl','rb') as fr:\n",
    "    bim_data=pickle.load(fr)\n",
    "with open(data_dir+'cifar_DeepFool_data.pkl','rb') as fr:\n",
    "    DF_data=pickle.load(fr)"
   ]
  },
  {
   "cell_type": "code",
   "execution_count": 2,
   "metadata": {},
   "outputs": [
    {
     "name": "stdout",
     "output_type": "stream",
     "text": [
      "(1000, 32, 32, 3)\n"
     ]
    }
   ],
   "source": [
    "print(fgsm_data.shape)"
   ]
  },
  {
   "cell_type": "code",
   "execution_count": 3,
   "metadata": {},
   "outputs": [
    {
     "name": "stderr",
     "output_type": "stream",
     "text": [
      "/mnt/jiali/anaconda3/lib/python3.6/site-packages/h5py/__init__.py:36: FutureWarning: Conversion of the second argument of issubdtype from `float` to `np.floating` is deprecated. In future, it will be treated as `np.float64 == np.dtype(float).type`.\n",
      "  from ._conv import register_converters as _register_converters\n",
      "Using TensorFlow backend.\n"
     ]
    },
    {
     "name": "stdout",
     "output_type": "stream",
     "text": [
      "(10000, 1)\n"
     ]
    }
   ],
   "source": [
    "from keras.datasets import cifar10\n",
    "import keras\n",
    "(x_train, y_train), (x_test, y_test) = cifar10.load_data()\n",
    "print(y_test.shape)\n",
    "y_test = keras.utils.to_categorical(y_test, 10)"
   ]
  },
  {
   "cell_type": "code",
   "execution_count": 5,
   "metadata": {},
   "outputs": [
    {
     "name": "stdout",
     "output_type": "stream",
     "text": [
      "INFO:tensorflow:Restoring parameters from cifar_ff_model/FF_init_model.ckpt\n",
      "acc: 0.054\n",
      "acc: 0.122\n",
      "acc: 0.462\n"
     ]
    }
   ],
   "source": [
    "# test FF_v1 on FF_v2\n",
    "model_dir='cifar_ff_model/'\n",
    "filename='FF_init_model.ckpt'\n",
    "import os\n",
    "import tensorflow as tf\n",
    "config = tf.ConfigProto()\n",
    "config.gpu_options.allow_growth=True\n",
    "\n",
    "import keras\n",
    "from cifar_ff_model import cifar_ff_model\n",
    "from cleverhans.utils_tf import train, model_eval\n",
    "\n",
    "\n",
    "tf.reset_default_graph()\n",
    "x = tf.placeholder(tf.float32, shape=(None, 32, 32,\n",
    "                                          3))\n",
    "y = tf.placeholder(tf.float32, shape=(None, 10))\n",
    "\n",
    "# test ff_model\n",
    "model = cifar_ff_model()\n",
    "preds=model(x)\n",
    "\n",
    "\n",
    "sess=tf.Session(config=config)\n",
    "keras.backend.set_session(sess)\n",
    "\n",
    "saver=tf.train.Saver()\n",
    "saver.restore(sess, os.path.join(model_dir, filename))\n",
    "eval_params = {'batch_size': 32}\n",
    "acc = model_eval(sess, x, y, preds, fgsm_data, y_test, args=eval_params)\n",
    "print('acc:', acc)\n",
    "acc = model_eval(sess, x, y, preds, bim_data, y_test, args=eval_params)\n",
    "print('acc:', acc)\n",
    "acc = model_eval(sess, x, y, preds, DF_data, y_test, args=eval_params)\n",
    "print('acc:', acc)"
   ]
  },
  {
   "cell_type": "code",
   "execution_count": 12,
   "metadata": {},
   "outputs": [
    {
     "name": "stdout",
     "output_type": "stream",
     "text": [
      "INFO:tensorflow:Restoring parameters from cifar_BP_model/cifar.ckpt\n",
      "acc: 0.113\n",
      "acc: 0.681\n",
      "acc: 0.143\n"
     ]
    }
   ],
   "source": [
    "model_dir='cifar_BP_model'\n",
    "filename='cifar.ckpt'\n",
    "import os\n",
    "import tensorflow as tf\n",
    "config = tf.ConfigProto()\n",
    "config.gpu_options.allow_growth=True\n",
    "\n",
    "import keras\n",
    "from lenet_model import cifar_model\n",
    "from cleverhans.utils_tf import train, model_eval\n",
    "\n",
    "\n",
    "tf.reset_default_graph()\n",
    "x = tf.placeholder(tf.float32, shape=(None, 32, 32,\n",
    "                                          3))\n",
    "y = tf.placeholder(tf.float32, shape=(None, 10))\n",
    "\n",
    "model = cifar_model(img_rows=32, img_cols=32,\n",
    "                      channels=3, nb_filters=64,\n",
    "                      nb_classes=10)\n",
    "preds=model(x)\n",
    "\n",
    "\n",
    "sess=tf.Session(config=config)\n",
    "keras.backend.set_session(sess)\n",
    "\n",
    "saver=tf.train.Saver()\n",
    "saver.restore(sess, os.path.join(model_dir, filename))\n",
    "eval_params = {'batch_size': 32}\n",
    "acc = model_eval(sess, x, y, preds, fgsm_data, y_test, args=eval_params)\n",
    "print('acc:', acc)\n",
    "acc = model_eval(sess, x, y, preds, DF_data, y_test, args=eval_params)\n",
    "print('acc:', acc)\n",
    "acc = model_eval(sess, x, y, preds, bim_data, y_test, args=eval_params)\n",
    "print('acc:', acc)"
   ]
  }
 ],
 "metadata": {
  "kernelspec": {
   "display_name": "Python 3",
   "language": "python",
   "name": "python3"
  },
  "language_info": {
   "codemirror_mode": {
    "name": "ipython",
    "version": 3.0
   },
   "file_extension": ".py",
   "mimetype": "text/x-python",
   "name": "python",
   "nbconvert_exporter": "python",
   "pygments_lexer": "ipython3",
   "version": "3.6.5"
  }
 },
 "nbformat": 4,
 "nbformat_minor": 0
}